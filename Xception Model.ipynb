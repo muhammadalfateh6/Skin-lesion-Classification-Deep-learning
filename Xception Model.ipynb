{
  "cells": [
    {
      "cell_type": "markdown",
      "metadata": {
        "id": "view-in-github",
        "colab_type": "text"
      },
      "source": [
        "<a href=\"https://colab.research.google.com/github/muhammadalfateh6/Skin-lesion-Classification-Deep-learning/blob/main/Xception%20Model.ipynb\" target=\"_parent\"><img src=\"https://colab.research.google.com/assets/colab-badge.svg\" alt=\"Open In Colab\"/></a>"
      ]
    },
    {
      "cell_type": "code",
      "source": [
        "from google.colab import drive\n",
        "drive.mount('/content/drive')"
      ],
      "metadata": {
        "id": "gAOObimfTX6c",
        "outputId": "80a2766b-b211-4b77-b66c-f40b07bd911d",
        "colab": {
          "base_uri": "https://localhost:8080/"
        }
      },
      "execution_count": null,
      "outputs": [
        {
          "output_type": "stream",
          "name": "stdout",
          "text": [
            "Mounted at /content/drive\n"
          ]
        }
      ]
    },
    {
      "cell_type": "code",
      "source": [
        "import tensorflow as tf\n",
        "from tensorflow.keras.callbacks import Callback\n",
        "from tensorflow.keras.preprocessing.image import ImageDataGenerator\n",
        "\n",
        "vgg_model = tf.keras.applications.Xception(weights='imagenet', include_top=False, input_shape=(224, 224, 3))\n",
        "\n",
        "for layer in vgg_model.layers:\n",
        "    layer.trainable = False\n",
        "\n",
        "train_directory = '/content/drive/MyDrive/Gen Set'\n",
        "test_directory = '/content/drive/MyDrive/Gen Set Test'\n",
        "\n",
        "train_path = '/content/drive/MyDrive/Gen Set'\n",
        "Benign_class = '/content/drive/MyDrive/Gen Set/Benign'\n",
        "Malignant_class = '/content/drive/MyDrive/Gen Set/Malignant'\n",
        "\n",
        "test_path = '/content/drive/MyDrive/Gen Set Test'\n",
        "Benign_class_test = '/content/drive/MyDrive/Gen Set Test/Benign Test'\n",
        "Malignant_class_test = '/content/drive/MyDrive/Gen Set Test/Malignant Test'\n",
        "\n",
        "# Use ImageDataGenerator to load images from the train, validation, and test directories\n",
        "data_generator = ImageDataGenerator(rescale=1./255)\n",
        "\n",
        "train_data = data_generator.flow_from_directory(train_directory,\n",
        "                                                 target_size=(224, 224),\n",
        "                                                 batch_size=32,\n",
        "                                                 class_mode='binary',\n",
        "                                                 classes=['Benign', 'Malignant'],\n",
        "                                                 shuffle=True,\n",
        "                                                 save_to_dir=train_path,\n",
        "                                                 save_format='bmp')\n",
        "\n",
        "test_data = data_generator.flow_from_directory(test_directory,\n",
        "                                                target_size=(224, 224),\n",
        "                                                batch_size=32,\n",
        "                                                class_mode='binary',\n",
        "                                                classes=['Benign', 'Malignant'],\n",
        "                                                shuffle=False,\n",
        "                                                save_to_dir=test_path,\n",
        "                                                save_format='bmp')\n",
        "\n",
        "class calls(Callback):\n",
        "    def on_train_begin(self, logs=None):\n",
        "        print(\"training started\")\n",
        "    def on_epoch_begin(self, epoch, logs=None):\n",
        "        print(f\"Starting epoch number {epoch}\")\n",
        "    def on_epoch_end(self, epoch, logs=None):\n",
        "        print(f\"Epoch number {epoch} ended\")              \n",
        "    def on_train_end(self, logs=None):\n",
        "        print(\"Training ended for good\")\n",
        "\n",
        "calling =[calls()]\n",
        "\n",
        "model = tf.keras.models.Sequential([\n",
        "        vgg_model,\n",
        "        tf.keras.layers.Conv2D(256, (3, 3), padding='same', activation='relu'),\n",
        "        tf.keras.layers.MaxPooling2D((2, 2), padding='same'),\n",
        "        tf.keras.layers.Conv2D(128, (3, 3), padding='same', activation='relu'),\n",
        "        tf.keras.layers.MaxPooling2D((2, 2), padding='same'),\n",
        "        tf.keras.layers.Conv2D(64, (3, 3), padding='same', activation='relu'),\n",
        "        tf.keras.layers.MaxPooling2D((2, 2), padding='same'),\n",
        "        tf.keras.layers.Flatten(),\n",
        "        tf.keras.layers.Dense(64, activation='relu'),\n",
        "        tf.keras.layers.Dropout(0.5),\n",
        "        tf.keras.layers.Dense(1, activation='sigmoid')\n",
        "])\n",
        "\n",
        "model.compile(loss='binary_crossentropy',\n",
        "              optimizer='adam',\n",
        "              metrics=['accuracy'])"
      ],
      "metadata": {
        "id": "B3LAWaYVTZKj",
        "outputId": "eae7cd8c-d2e7-4850-a1b1-1d0e4104af91",
        "colab": {
          "base_uri": "https://localhost:8080/"
        }
      },
      "execution_count": null,
      "outputs": [
        {
          "output_type": "stream",
          "name": "stdout",
          "text": [
            "Downloading data from https://storage.googleapis.com/tensorflow/keras-applications/vgg19/vgg19_weights_tf_dim_ordering_tf_kernels_notop.h5\n",
            "80134624/80134624 [==============================] - 1s 0us/step\n",
            "Found 311 images belonging to 2 classes.\n",
            "Found 0 images belonging to 2 classes.\n"
          ]
        }
      ]
    },
    {
      "cell_type": "code",
      "source": [
        "history = model.fit(train_data,\n",
        "                    callbacks = calling,\n",
        "                    epochs = 2,\n",
        "                    batch_size = 32,\n",
        "                    validation_data = (test_data),\n",
        "                    verbose = 1)"
      ],
      "metadata": {
        "id": "cO-SSzgwTclD",
        "outputId": "51cce01d-4764-4385-b255-fe0b14393a27",
        "colab": {
          "base_uri": "https://localhost:8080/"
        }
      },
      "execution_count": null,
      "outputs": [
        {
          "output_type": "stream",
          "name": "stdout",
          "text": [
            "training started\n",
            "Starting epoch number 0\n",
            "Epoch 1/2\n",
            "10/10 [==============================] - ETA: 0s - loss: 0.0012 - accuracy: 1.0000 Epoch number 0 ended\n",
            "10/10 [==============================] - 242s 23s/step - loss: 0.0012 - accuracy: 1.0000\n",
            "Starting epoch number 1\n",
            "Epoch 2/2\n",
            "10/10 [==============================] - ETA: 0s - loss: 0.0017 - accuracy: 1.0000 Epoch number 1 ended\n",
            "10/10 [==============================] - 230s 23s/step - loss: 0.0017 - accuracy: 1.0000\n",
            "Training ended for good\n"
          ]
        }
      ]
    },
    {
      "cell_type": "code",
      "source": [
        "import matplotlib.pyplot as plt\n",
        "\n",
        "plt.plot(history.history['loss'])\n",
        "plt.plot(history.history['val_loss'])\n",
        "plt.title('Loss vs epochs')\n",
        "plt.ylabel('Loss')\n",
        "plt.xlabel('Epochs')\n",
        "plt.legend(['Training', 'Validation'], loc='upper right')\n",
        "print('\\n')\n",
        "plt.plot(history.history['accuracy'])\n",
        "plt.plot(history.history['val_accuracy'])\n",
        "plt.title('Accuracy vs. Epochs')\n",
        "plt.ylabel('Accuracy')\n",
        "plt.xlabel('Epoch')\n",
        "plt.legend(['Training', 'Validation'], loc='lower right')\n",
        "plt.show() "
      ],
      "metadata": {
        "id": "eS0eMfP1vbx8",
        "outputId": "504bd38d-017e-4ae4-df65-7478d1b1b6e5",
        "colab": {
          "base_uri": "https://localhost:8080/",
          "height": 648
        }
      },
      "execution_count": null,
      "outputs": [
        {
          "output_type": "error",
          "ename": "KeyError",
          "evalue": "ignored",
          "traceback": [
            "\u001b[0;31m---------------------------------------------------------------------------\u001b[0m",
            "\u001b[0;31mKeyError\u001b[0m                                  Traceback (most recent call last)",
            "\u001b[0;32m<ipython-input-12-d2b459821534>\u001b[0m in \u001b[0;36m<cell line: 4>\u001b[0;34m()\u001b[0m\n\u001b[1;32m      2\u001b[0m \u001b[0;34m\u001b[0m\u001b[0m\n\u001b[1;32m      3\u001b[0m \u001b[0mplt\u001b[0m\u001b[0;34m.\u001b[0m\u001b[0mplot\u001b[0m\u001b[0;34m(\u001b[0m\u001b[0mhistory\u001b[0m\u001b[0;34m.\u001b[0m\u001b[0mhistory\u001b[0m\u001b[0;34m[\u001b[0m\u001b[0;34m'loss'\u001b[0m\u001b[0;34m]\u001b[0m\u001b[0;34m)\u001b[0m\u001b[0;34m\u001b[0m\u001b[0;34m\u001b[0m\u001b[0m\n\u001b[0;32m----> 4\u001b[0;31m \u001b[0mplt\u001b[0m\u001b[0;34m.\u001b[0m\u001b[0mplot\u001b[0m\u001b[0;34m(\u001b[0m\u001b[0mhistory\u001b[0m\u001b[0;34m.\u001b[0m\u001b[0mhistory\u001b[0m\u001b[0;34m[\u001b[0m\u001b[0;34m'val_loss'\u001b[0m\u001b[0;34m]\u001b[0m\u001b[0;34m)\u001b[0m\u001b[0;34m\u001b[0m\u001b[0;34m\u001b[0m\u001b[0m\n\u001b[0m\u001b[1;32m      5\u001b[0m \u001b[0mplt\u001b[0m\u001b[0;34m.\u001b[0m\u001b[0mtitle\u001b[0m\u001b[0;34m(\u001b[0m\u001b[0;34m'Loss vs epochs'\u001b[0m\u001b[0;34m)\u001b[0m\u001b[0;34m\u001b[0m\u001b[0;34m\u001b[0m\u001b[0m\n\u001b[1;32m      6\u001b[0m \u001b[0mplt\u001b[0m\u001b[0;34m.\u001b[0m\u001b[0mylabel\u001b[0m\u001b[0;34m(\u001b[0m\u001b[0;34m'Loss'\u001b[0m\u001b[0;34m)\u001b[0m\u001b[0;34m\u001b[0m\u001b[0;34m\u001b[0m\u001b[0m\n",
            "\u001b[0;31mKeyError\u001b[0m: 'val_loss'"
          ]
        },
        {
          "output_type": "display_data",
          "data": {
            "text/plain": [
              "<Figure size 640x480 with 1 Axes>"
            ],
            "image/png": "[encoded data removed]"
          },
          "metadata": {}
        }
      ]
    }
  ],
  "metadata": {
    "colab": {
      "name": "Welcome To Colaboratory",
      "provenance": [],
      "include_colab_link": true
    },
    "kernelspec": {
      "display_name": "Python 3",
      "name": "python3"
    }
  },
  "nbformat": 4,
  "nbformat_minor": 0
}