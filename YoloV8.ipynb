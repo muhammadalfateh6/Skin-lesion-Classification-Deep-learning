{
  "nbformat": 4,
  "nbformat_minor": 0,
  "metadata": {
    "colab": {
      "provenance": [],
      "authorship_tag": "ABX9TyPmR5D7nwcBfbe9apnu8KWX",
      "include_colab_link": true
    },
    "kernelspec": {
      "name": "python3",
      "display_name": "Python 3"
    },
    "language_info": {
      "name": "python"
    }
  },
  "cells": [
    {
      "cell_type": "markdown",
      "metadata": {
        "id": "view-in-github",
        "colab_type": "text"
      },
      "source": [
        "<a href=\"https://colab.research.google.com/github/muhammadalfateh6/Skin-lesion-Classification-Deep-learning/blob/main/YoloV8.ipynb\" target=\"_parent\"><img src=\"https://colab.research.google.com/assets/colab-badge.svg\" alt=\"Open In Colab\"/></a>"
      ]
    },
    {
      "cell_type": "code",
      "source": [
        "from google.colab import drive\n",
        "drive.mount('/content/drive')"
      ],
      "metadata": {
        "colab": {
          "base_uri": "https://localhost:8080/"
        },
        "id": "k4GAdw6ugj37",
        "outputId": "aa2209f6-8e70-46e5-9ec7-c6d32dc6544d"
      },
      "execution_count": 57,
      "outputs": [
        {
          "output_type": "stream",
          "name": "stdout",
          "text": [
            "Drive already mounted at /content/drive; to attempt to forcibly remount, call drive.mount(\"/content/drive\", force_remount=True).\n"
          ]
        }
      ]
    },
    {
      "cell_type": "code",
      "execution_count": 74,
      "metadata": {
        "id": "UuLcAeNlY-KQ"
      },
      "outputs": [],
      "source": [
        "import numpy as np \n",
        "import pandas as pd\n",
        "from pathlib import Path\n",
        "from xml.dom.minidom import parse\n",
        "from shutil import copyfile \n",
        "import os"
      ]
    },
    {
      "cell_type": "code",
      "source": [
        "classes = ['helmet','head','person']"
      ],
      "metadata": {
        "id": "w7WP2FLcaPvl"
      },
      "execution_count": 75,
      "outputs": []
    },
    {
      "cell_type": "code",
      "source": [
        "def convert_annot(size , box):\n",
        "    x1 = int(box[0])\n",
        "    y1 = int(box[1])\n",
        "    x2 = int(box[2])\n",
        "    y2 = int(box[3])\n",
        "\n",
        "    dw = np.float32(1. / int(size[0]))\n",
        "    dh = np.float32(1. / int(size[1]))\n",
        "\n",
        "    w = x2 - x1\n",
        "    h = y2 - y1\n",
        "    x = x1 + (w / 2)\n",
        "    y = y1 + (h / 2)\n",
        "\n",
        "    x = x * dw\n",
        "    w = w * dw\n",
        "    y = y * dh\n",
        "    h = h * dh\n",
        "    return [x, y, w, h]"
      ],
      "metadata": {
        "id": "dchUtI_Ealoc"
      },
      "execution_count": 76,
      "outputs": []
    },
    {
      "cell_type": "code",
      "source": [
        "def save_txt_file(img_jpg_file_name, size, img_box):\n",
        "    save_file_name = '/content/drive/MyDrive/annotations' +  img_jpg_file_name + '.txt'\n",
        "    \n",
        "    #file_path = open(save_file_name, \"a+\")\n",
        "    with open(save_file_name ,'a+') as file_path:\n",
        "        for box in img_box:\n",
        "\n",
        "            cls_num = classes.index(box[0])\n",
        "\n",
        "            new_box = convert_annot(size, box[1:])\n",
        "\n",
        "            file_path.write(f\"{cls_num} {new_box[0]} {new_box[1]} {new_box[2]} {new_box[3]}\\n\")\n",
        "\n",
        "        file_path.flush()\n",
        "        file_path.close()"
      ],
      "metadata": {
        "id": "onoLEd7AdPh8"
      },
      "execution_count": 77,
      "outputs": []
    },
    {
      "cell_type": "code",
      "source": [
        "def get_xml_data(file_path, img_xml_file):\n",
        "    img_path = file_path + '/' + img_xml_file + '.xml'\n",
        "    #print(img_path)\n",
        "\n",
        "    dom = parse(img_path)\n",
        "    root = dom.documentElement\n",
        "    img_name = root.getElementsByTagName(\"filename\")[0].childNodes[0].data\n",
        "    img_size = root.getElementsByTagName(\"size\")[0]\n",
        "    objects = root.getElementsByTagName(\"object\")\n",
        "    img_w = img_size.getElementsByTagName(\"width\")[0].childNodes[0].data\n",
        "    img_h = img_size.getElementsByTagName(\"height\")[0].childNodes[0].data\n",
        "    img_c = img_size.getElementsByTagName(\"depth\")[0].childNodes[0].data\n",
        "   \n",
        "    img_box = []\n",
        "    for box in objects:\n",
        "        cls_name = box.getElementsByTagName(\"name\")[0].childNodes[0].data\n",
        "        x1 = int(box.getElementsByTagName(\"xmin\")[0].childNodes[0].data)\n",
        "        y1 = int(box.getElementsByTagName(\"ymin\")[0].childNodes[0].data)\n",
        "        x2 = int(box.getElementsByTagName(\"xmax\")[0].childNodes[0].data)\n",
        "        y2 = int(box.getElementsByTagName(\"ymax\")[0].childNodes[0].data)\n",
        "        \n",
        "        img_jpg_file_name = img_xml_file + '.jpg'\n",
        "        img_box.append([cls_name, x1, y1, x2, y2])\n",
        "  \n",
        "\n",
        "    # test_dataset_box_feature(img_jpg_file_name, img_box)\n",
        "    save_txt_file(img_xml_file, [img_w, img_h], img_box)"
      ],
      "metadata": {
        "id": "FKPf41PRdR6w"
      },
      "execution_count": 78,
      "outputs": []
    },
    {
      "cell_type": "code",
      "source": [
        "files = os.listdir('/content/drive/MyDrive/annotations')\n",
        "for file in files:\n",
        "    file_xml = file.split(\".\")\n",
        "    get_xml_data('/content/drive/MyDrive/annotations', file_xml[0])"
      ],
      "metadata": {
        "id": "sDDwpxJrArZ0"
      },
      "execution_count": 79,
      "outputs": []
    },
    {
      "cell_type": "code",
      "source": [
        "from sklearn.model_selection import train_test_split\n",
        "image_list = os.listdir('/content/drive/MyDrive/images all')\n",
        "train_list, test_list = train_test_split(image_list, test_size=0.2, random_state=42)\n",
        "val_list, test_list = train_test_split(test_list, test_size=0.5, random_state=42)\n",
        "print('total =',len(image_list))\n",
        "print('train :',len(train_list))\n",
        "print('val   :',len(val_list))\n",
        "print('test  :',len(test_list))"
      ],
      "metadata": {
        "colab": {
          "base_uri": "https://localhost:8080/"
        },
        "id": "F7dQD1YEAzQ-",
        "outputId": "12dbdb63-c39e-481d-fc75-8b51c2ed21a3"
      },
      "execution_count": 80,
      "outputs": [
        {
          "output_type": "stream",
          "name": "stdout",
          "text": [
            "total = 5000\n",
            "train : 4000\n",
            "val   : 500\n",
            "test  : 500\n"
          ]
        }
      ]
    },
    {
      "cell_type": "code",
      "source": [
        "def copy_data(file_list, img_labels_root, imgs_source, mode):\n",
        "\n",
        "    root_file = Path( '/content/drive/MyDrive/images all'+  mode)\n",
        "    if not root_file.exists():\n",
        "        print(f\"Path {root_file} does not exit\")\n",
        "        os.makedirs(root_file)\n",
        "\n",
        "    root_file = Path('/content/drive/MyDrive/annotations' + mode)\n",
        "    if not root_file.exists():\n",
        "        print(f\"Path {root_file} does not exit\")\n",
        "        os.makedirs(root_file)\n",
        "\n",
        "    for file in file_list:               \n",
        "        img_name = file.replace('.png', '')        \n",
        "        img_src_file = imgs_source + '/' + img_name + '.png'        \n",
        "        label_src_file = img_labels_root + '/' + img_name + '.txt'\n",
        "\n",
        "        #print(img_sor_file)\n",
        "        #print(label_sor_file)\n",
        "        # im = Image.open(rf\"{img_sor_file}\")\n",
        "        # im.show()\n",
        "\n",
        "        # Copy image\n",
        "        DICT_DIR = '/content/drive/MyDrive/images all'  + mode\n",
        "        img_dict_file = DICT_DIR + '/' + img_name + '.png'\n",
        "\n",
        "        copyfile(img_src_file, img_dict_file)\n",
        "\n",
        "        # Copy label\n",
        "        DICT_DIR = '/content/drive/MyDrive/annotations' + mode\n",
        "        img_dict_file = DICT_DIR + '/' + img_name + '.txt'\n",
        "        copyfile(label_src_file, img_dict_file)"
      ],
      "metadata": {
        "id": "LX9M48e_A8HH"
      },
      "execution_count": 81,
      "outputs": []
    },
    {
      "cell_type": "code",
      "source": [
        "copy_data(train_list, '/content/drive/MyDrive/annotations', '/content/drive/MyDrive/images all', \"train\")\n",
        "copy_data(val_list,   '/content/drive/MyDrive/annotations', '/content/drive/MyDrive/images all', \"val\")\n",
        "copy_data(test_list,  '/content/drive/MyDrive/annotations', '/content/drive/MyDrive/images all', \"test\")"
      ],
      "metadata": {
        "colab": {
          "base_uri": "https://localhost:8080/",
          "height": 432
        },
        "id": "P0rXTxAMBAOO",
        "outputId": "b11c9663-0295-48d4-c658-b4d58c374795"
      },
      "execution_count": 66,
      "outputs": [
        {
          "output_type": "stream",
          "name": "stdout",
          "text": [
            "Path /content/drive/MyDrive/images alltrain does not exit\n"
          ]
        },
        {
          "output_type": "error",
          "ename": "FileNotFoundError",
          "evalue": "ignored",
          "traceback": [
            "\u001b[0;31m---------------------------------------------------------------------------\u001b[0m",
            "\u001b[0;31mFileNotFoundError\u001b[0m                         Traceback (most recent call last)",
            "\u001b[0;32m<ipython-input-66-eea6e3ce1114>\u001b[0m in \u001b[0;36m<cell line: 1>\u001b[0;34m()\u001b[0m\n\u001b[0;32m----> 1\u001b[0;31m \u001b[0mcopy_data\u001b[0m\u001b[0;34m(\u001b[0m\u001b[0mtrain_list\u001b[0m\u001b[0;34m,\u001b[0m \u001b[0;34m'/content/drive/MyDrive/annotations'\u001b[0m\u001b[0;34m,\u001b[0m \u001b[0;34m'/content/drive/MyDrive/images all'\u001b[0m\u001b[0;34m,\u001b[0m \u001b[0;34m\"train\"\u001b[0m\u001b[0;34m)\u001b[0m\u001b[0;34m\u001b[0m\u001b[0;34m\u001b[0m\u001b[0m\n\u001b[0m\u001b[1;32m      2\u001b[0m \u001b[0mcopy_data\u001b[0m\u001b[0;34m(\u001b[0m\u001b[0mval_list\u001b[0m\u001b[0;34m,\u001b[0m   \u001b[0;34m'/content/drive/MyDrive/annotations'\u001b[0m\u001b[0;34m,\u001b[0m \u001b[0;34m'/content/drive/MyDrive/images all'\u001b[0m\u001b[0;34m,\u001b[0m \u001b[0;34m\"val\"\u001b[0m\u001b[0;34m)\u001b[0m\u001b[0;34m\u001b[0m\u001b[0;34m\u001b[0m\u001b[0m\n\u001b[1;32m      3\u001b[0m \u001b[0mcopy_data\u001b[0m\u001b[0;34m(\u001b[0m\u001b[0mtest_list\u001b[0m\u001b[0;34m,\u001b[0m  \u001b[0;34m'/content/drive/MyDrive/annotations'\u001b[0m\u001b[0;34m,\u001b[0m \u001b[0;34m'/content/drive/MyDrive/images all'\u001b[0m\u001b[0;34m,\u001b[0m \u001b[0;34m\"test\"\u001b[0m\u001b[0;34m)\u001b[0m\u001b[0;34m\u001b[0m\u001b[0;34m\u001b[0m\u001b[0m\n",
            "\u001b[0;32m<ipython-input-65-3ceb915aada7>\u001b[0m in \u001b[0;36mcopy_data\u001b[0;34m(file_list, img_labels_root, imgs_source, mode)\u001b[0m\n\u001b[1;32m     30\u001b[0m         \u001b[0mDICT_DIR\u001b[0m \u001b[0;34m=\u001b[0m \u001b[0;34m'/content/drive/MyDrive/annotations'\u001b[0m \u001b[0;34m+\u001b[0m \u001b[0mmode\u001b[0m\u001b[0;34m\u001b[0m\u001b[0;34m\u001b[0m\u001b[0m\n\u001b[1;32m     31\u001b[0m         \u001b[0mimg_dict_file\u001b[0m \u001b[0;34m=\u001b[0m \u001b[0mDICT_DIR\u001b[0m \u001b[0;34m+\u001b[0m \u001b[0;34m'/'\u001b[0m \u001b[0;34m+\u001b[0m \u001b[0mimg_name\u001b[0m \u001b[0;34m+\u001b[0m \u001b[0;34m'.txt'\u001b[0m\u001b[0;34m\u001b[0m\u001b[0;34m\u001b[0m\u001b[0m\n\u001b[0;32m---> 32\u001b[0;31m         \u001b[0mcopyfile\u001b[0m\u001b[0;34m(\u001b[0m\u001b[0mlabel_src_file\u001b[0m\u001b[0;34m,\u001b[0m \u001b[0mimg_dict_file\u001b[0m\u001b[0;34m)\u001b[0m\u001b[0;34m\u001b[0m\u001b[0;34m\u001b[0m\u001b[0m\n\u001b[0m",
            "\u001b[0;32m/usr/lib/python3.10/shutil.py\u001b[0m in \u001b[0;36mcopyfile\u001b[0;34m(src, dst, follow_symlinks)\u001b[0m\n\u001b[1;32m    252\u001b[0m         \u001b[0mos\u001b[0m\u001b[0;34m.\u001b[0m\u001b[0msymlink\u001b[0m\u001b[0;34m(\u001b[0m\u001b[0mos\u001b[0m\u001b[0;34m.\u001b[0m\u001b[0mreadlink\u001b[0m\u001b[0;34m(\u001b[0m\u001b[0msrc\u001b[0m\u001b[0;34m)\u001b[0m\u001b[0;34m,\u001b[0m \u001b[0mdst\u001b[0m\u001b[0;34m)\u001b[0m\u001b[0;34m\u001b[0m\u001b[0;34m\u001b[0m\u001b[0m\n\u001b[1;32m    253\u001b[0m     \u001b[0;32melse\u001b[0m\u001b[0;34m:\u001b[0m\u001b[0;34m\u001b[0m\u001b[0;34m\u001b[0m\u001b[0m\n\u001b[0;32m--> 254\u001b[0;31m         \u001b[0;32mwith\u001b[0m \u001b[0mopen\u001b[0m\u001b[0;34m(\u001b[0m\u001b[0msrc\u001b[0m\u001b[0;34m,\u001b[0m \u001b[0;34m'rb'\u001b[0m\u001b[0;34m)\u001b[0m \u001b[0;32mas\u001b[0m \u001b[0mfsrc\u001b[0m\u001b[0;34m:\u001b[0m\u001b[0;34m\u001b[0m\u001b[0;34m\u001b[0m\u001b[0m\n\u001b[0m\u001b[1;32m    255\u001b[0m             \u001b[0;32mtry\u001b[0m\u001b[0;34m:\u001b[0m\u001b[0;34m\u001b[0m\u001b[0;34m\u001b[0m\u001b[0m\n\u001b[1;32m    256\u001b[0m                 \u001b[0;32mwith\u001b[0m \u001b[0mopen\u001b[0m\u001b[0;34m(\u001b[0m\u001b[0mdst\u001b[0m\u001b[0;34m,\u001b[0m \u001b[0;34m'wb'\u001b[0m\u001b[0;34m)\u001b[0m \u001b[0;32mas\u001b[0m \u001b[0mfdst\u001b[0m\u001b[0;34m:\u001b[0m\u001b[0;34m\u001b[0m\u001b[0;34m\u001b[0m\u001b[0m\n",
            "\u001b[0;31mFileNotFoundError\u001b[0m: [Errno 2] No such file or directory: '/content/drive/MyDrive/annotations/hard_hat_workers345.txt'"
          ]
        }
      ]
    },
    {
      "cell_type": "code",
      "source": [
        "!ls /content/drive/MyDrive/images all"
      ],
      "metadata": {
        "colab": {
          "base_uri": "https://localhost:8080/"
        },
        "id": "D1raxqZqLtBT",
        "outputId": "f295c9ae-1769-4768-d306-53a162621d7b"
      },
      "execution_count": 67,
      "outputs": [
        {
          "output_type": "stream",
          "name": "stdout",
          "text": [
            "ls: cannot access 'all': No such file or directory\n",
            "/content/drive/MyDrive/images:\n",
            "hard_hat_workers1005.png  hard_hat_workers2490.png  hard_hat_workers404.png\n",
            "hard_hat_workers1006.png  hard_hat_workers2495.png  hard_hat_workers4050.png\n",
            "hard_hat_workers1017.png  hard_hat_workers2517.png  hard_hat_workers4052.png\n",
            "hard_hat_workers1021.png  hard_hat_workers251.png   hard_hat_workers4057.png\n",
            "hard_hat_workers1026.png  hard_hat_workers2524.png  hard_hat_workers4058.png\n",
            "hard_hat_workers1029.png  hard_hat_workers2536.png  hard_hat_workers4065.png\n",
            "hard_hat_workers1031.png  hard_hat_workers2547.png  hard_hat_workers4068.png\n",
            "hard_hat_workers1034.png  hard_hat_workers2549.png  hard_hat_workers407.png\n",
            "hard_hat_workers1039.png  hard_hat_workers254.png   hard_hat_workers4081.png\n",
            "hard_hat_workers1042.png  hard_hat_workers2557.png  hard_hat_workers4082.png\n",
            "hard_hat_workers1045.png  hard_hat_workers2561.png  hard_hat_workers4083.png\n",
            "hard_hat_workers1047.png  hard_hat_workers2562.png  hard_hat_workers4084.png\n",
            "hard_hat_workers1053.png  hard_hat_workers2563.png  hard_hat_workers4092.png\n",
            "hard_hat_workers1055.png  hard_hat_workers2565.png  hard_hat_workers4094.png\n",
            "hard_hat_workers1058.png  hard_hat_workers2566.png  hard_hat_workers4095.png\n",
            "hard_hat_workers1061.png  hard_hat_workers2568.png  hard_hat_workers4097.png\n",
            "hard_hat_workers1062.png  hard_hat_workers2570.png  hard_hat_workers4099.png\n",
            "hard_hat_workers1063.png  hard_hat_workers2574.png  hard_hat_workers4103.png\n",
            "hard_hat_workers1064.png  hard_hat_workers2577.png  hard_hat_workers4108.png\n",
            "hard_hat_workers1079.png  hard_hat_workers2580.png  hard_hat_workers4113.png\n",
            "hard_hat_workers1080.png  hard_hat_workers2583.png  hard_hat_workers4114.png\n",
            "hard_hat_workers1088.png  hard_hat_workers2584.png  hard_hat_workers4116.png\n",
            "hard_hat_workers1093.png  hard_hat_workers2587.png  hard_hat_workers4117.png\n",
            "hard_hat_workers1095.png  hard_hat_workers2588.png  hard_hat_workers411.png\n",
            "hard_hat_workers1100.png  hard_hat_workers2594.png  hard_hat_workers4127.png\n",
            "hard_hat_workers1102.png  hard_hat_workers2601.png  hard_hat_workers4137.png\n",
            "hard_hat_workers1104.png  hard_hat_workers2618.png  hard_hat_workers413.png\n",
            "hard_hat_workers1107.png  hard_hat_workers2619.png  hard_hat_workers4141.png\n",
            "hard_hat_workers1119.png  hard_hat_workers2623.png  hard_hat_workers4145.png\n",
            "hard_hat_workers1126.png  hard_hat_workers2630.png  hard_hat_workers4164.png\n",
            "hard_hat_workers1128.png  hard_hat_workers2639.png  hard_hat_workers4171.png\n",
            "hard_hat_workers1134.png  hard_hat_workers2643.png  hard_hat_workers4173.png\n",
            "hard_hat_workers1135.png  hard_hat_workers2656.png  hard_hat_workers4174.png\n",
            "hard_hat_workers1146.png  hard_hat_workers2660.png  hard_hat_workers4175.png\n",
            "hard_hat_workers1148.png  hard_hat_workers2662.png  hard_hat_workers4178.png\n",
            "hard_hat_workers1149.png  hard_hat_workers2663.png  hard_hat_workers4183.png\n",
            "hard_hat_workers114.png   hard_hat_workers2664.png  hard_hat_workers4188.png\n",
            "hard_hat_workers1160.png  hard_hat_workers2666.png  hard_hat_workers4190.png\n",
            "hard_hat_workers1169.png  hard_hat_workers2669.png  hard_hat_workers4191.png\n",
            "hard_hat_workers1177.png  hard_hat_workers2670.png  hard_hat_workers4197.png\n",
            "hard_hat_workers1178.png  hard_hat_workers2672.png  hard_hat_workers4217.png\n",
            "hard_hat_workers1180.png  hard_hat_workers2673.png  hard_hat_workers4219.png\n",
            "hard_hat_workers1184.png  hard_hat_workers2674.png  hard_hat_workers4222.png\n",
            "hard_hat_workers1187.png  hard_hat_workers2685.png  hard_hat_workers4225.png\n",
            "hard_hat_workers1193.png  hard_hat_workers2688.png  hard_hat_workers422.png\n",
            "hard_hat_workers1194.png  hard_hat_workers2690.png  hard_hat_workers4233.png\n",
            "hard_hat_workers1196.png  hard_hat_workers2694.png  hard_hat_workers4238.png\n",
            "hard_hat_workers1200.png  hard_hat_workers2697.png  hard_hat_workers4239.png\n",
            "hard_hat_workers1201.png  hard_hat_workers26.png    hard_hat_workers4243.png\n",
            "hard_hat_workers1202.png  hard_hat_workers2706.png  hard_hat_workers4249.png\n",
            "hard_hat_workers1206.png  hard_hat_workers2707.png  hard_hat_workers4253.png\n",
            "hard_hat_workers120.png   hard_hat_workers2711.png  hard_hat_workers4255.png\n",
            "hard_hat_workers1225.png  hard_hat_workers2718.png  hard_hat_workers4259.png\n",
            "hard_hat_workers1227.png  hard_hat_workers271.png   hard_hat_workers4264.png\n",
            "hard_hat_workers1232.png  hard_hat_workers2725.png  hard_hat_workers4265.png\n",
            "hard_hat_workers1236.png  hard_hat_workers2744.png  hard_hat_workers4268.png\n",
            "hard_hat_workers123.png   hard_hat_workers2749.png  hard_hat_workers4274.png\n",
            "hard_hat_workers1245.png  hard_hat_workers2750.png  hard_hat_workers4276.png\n",
            "hard_hat_workers1246.png  hard_hat_workers2757.png  hard_hat_workers4290.png\n",
            "hard_hat_workers1248.png  hard_hat_workers2758.png  hard_hat_workers4293.png\n",
            "hard_hat_workers1251.png  hard_hat_workers2764.png  hard_hat_workers4297.png\n",
            "hard_hat_workers1255.png  hard_hat_workers2766.png  hard_hat_workers4298.png\n",
            "hard_hat_workers1258.png  hard_hat_workers2768.png  hard_hat_workers42.png\n",
            "hard_hat_workers1263.png  hard_hat_workers2775.png  hard_hat_workers4302.png\n",
            "hard_hat_workers1265.png  hard_hat_workers2789.png  hard_hat_workers4303.png\n",
            "hard_hat_workers1270.png  hard_hat_workers2794.png  hard_hat_workers4308.png\n",
            "hard_hat_workers1271.png  hard_hat_workers279.png   hard_hat_workers4323.png\n",
            "hard_hat_workers1273.png  hard_hat_workers2800.png  hard_hat_workers4325.png\n",
            "hard_hat_workers1274.png  hard_hat_workers2801.png  hard_hat_workers4330.png\n",
            "hard_hat_workers1282.png  hard_hat_workers2803.png  hard_hat_workers4335.png\n",
            "hard_hat_workers1285.png  hard_hat_workers2804.png  hard_hat_workers4341.png\n",
            "hard_hat_workers1290.png  hard_hat_workers2808.png  hard_hat_workers4348.png\n",
            "hard_hat_workers1296.png  hard_hat_workers2814.png  hard_hat_workers4350.png\n",
            "hard_hat_workers1298.png  hard_hat_workers2815.png  hard_hat_workers4353.png\n",
            "hard_hat_workers1300.png  hard_hat_workers2817.png  hard_hat_workers4354.png\n",
            "hard_hat_workers1301.png  hard_hat_workers2821.png  hard_hat_workers4362.png\n",
            "hard_hat_workers1305.png  hard_hat_workers2826.png  hard_hat_workers4364.png\n",
            "hard_hat_workers1307.png  hard_hat_workers2834.png  hard_hat_workers4365.png\n",
            "hard_hat_workers1310.png  hard_hat_workers2836.png  hard_hat_workers4369.png\n",
            "hard_hat_workers1315.png  hard_hat_workers2843.png  hard_hat_workers4372.png\n",
            "hard_hat_workers1317.png  hard_hat_workers2849.png  hard_hat_workers4379.png\n",
            "hard_hat_workers1318.png  hard_hat_workers284.png   hard_hat_workers437.png\n",
            "hard_hat_workers1327.png  hard_hat_workers2850.png  hard_hat_workers4388.png\n",
            "hard_hat_workers1329.png  hard_hat_workers2856.png  hard_hat_workers438.png\n",
            "hard_hat_workers1333.png  hard_hat_workers2860.png  hard_hat_workers43.png\n",
            "hard_hat_workers1334.png  hard_hat_workers2861.png  hard_hat_workers4402.png\n",
            "hard_hat_workers1338.png  hard_hat_workers2865.png  hard_hat_workers4403.png\n",
            "hard_hat_workers1343.png  hard_hat_workers2867.png  hard_hat_workers4405.png\n",
            "hard_hat_workers1346.png  hard_hat_workers2868.png  hard_hat_workers4406.png\n",
            "hard_hat_workers1347.png  hard_hat_workers2871.png  hard_hat_workers440.png\n",
            "hard_hat_workers1348.png  hard_hat_workers2873.png  hard_hat_workers4410.png\n",
            "hard_hat_workers1352.png  hard_hat_workers2877.png  hard_hat_workers4418.png\n",
            "hard_hat_workers1368.png  hard_hat_workers2887.png  hard_hat_workers441.png\n",
            "hard_hat_workers1369.png  hard_hat_workers288.png   hard_hat_workers4426.png\n",
            "hard_hat_workers136.png   hard_hat_workers2894.png  hard_hat_workers4427.png\n",
            "hard_hat_workers1370.png  hard_hat_workers28.png    hard_hat_workers4430.png\n",
            "hard_hat_workers1372.png  hard_hat_workers2903.png  hard_hat_workers4433.png\n",
            "hard_hat_workers137.png   hard_hat_workers2908.png  hard_hat_workers4439.png\n",
            "hard_hat_workers1382.png  hard_hat_workers2909.png  hard_hat_workers4449.png\n",
            "hard_hat_workers1383.png  hard_hat_workers2917.png  hard_hat_workers4455.png\n",
            "hard_hat_workers1384.png  hard_hat_workers2922.png  hard_hat_workers4457.png\n",
            "hard_hat_workers1385.png  hard_hat_workers2925.png  hard_hat_workers4458.png\n",
            "hard_hat_workers1388.png  hard_hat_workers2928.png  hard_hat_workers4459.png\n",
            "hard_hat_workers13.png\t  hard_hat_workers2929.png  hard_hat_workers4466.png\n",
            "hard_hat_workers1409.png  hard_hat_workers292.png   hard_hat_workers4471.png\n",
            "hard_hat_workers140.png   hard_hat_workers2935.png  hard_hat_workers4472.png\n",
            "hard_hat_workers1412.png  hard_hat_workers2940.png  hard_hat_workers4477.png\n",
            "hard_hat_workers1417.png  hard_hat_workers2948.png  hard_hat_workers4482.png\n",
            "hard_hat_workers1419.png  hard_hat_workers295.png   hard_hat_workers4483.png\n",
            "hard_hat_workers1423.png  hard_hat_workers2969.png  hard_hat_workers4487.png\n",
            "hard_hat_workers1432.png  hard_hat_workers2974.png  hard_hat_workers448.png\n",
            "hard_hat_workers1439.png  hard_hat_workers2975.png  hard_hat_workers4491.png\n",
            "hard_hat_workers1442.png  hard_hat_workers2976.png  hard_hat_workers4500.png\n",
            "hard_hat_workers1443.png  hard_hat_workers2977.png  hard_hat_workers4501.png\n",
            "hard_hat_workers1444.png  hard_hat_workers2981.png  hard_hat_workers4504.png\n",
            "hard_hat_workers1452.png  hard_hat_workers2983.png  hard_hat_workers4505.png\n",
            "hard_hat_workers1454.png  hard_hat_workers2985.png  hard_hat_workers4506.png\n",
            "hard_hat_workers1458.png  hard_hat_workers298.png   hard_hat_workers4508.png\n",
            "hard_hat_workers145.png   hard_hat_workers2990.png  hard_hat_workers4511.png\n",
            "hard_hat_workers1463.png  hard_hat_workers2992.png  hard_hat_workers4512.png\n",
            "hard_hat_workers1465.png  hard_hat_workers2993.png  hard_hat_workers4515.png\n",
            "hard_hat_workers1471.png  hard_hat_workers2995.png  hard_hat_workers4531.png\n",
            "hard_hat_workers1473.png  hard_hat_workers3000.png  hard_hat_workers4533.png\n",
            "hard_hat_workers1474.png  hard_hat_workers3002.png  hard_hat_workers4538.png\n",
            "hard_hat_workers1480.png  hard_hat_workers3003.png  hard_hat_workers4540.png\n",
            "hard_hat_workers1481.png  hard_hat_workers3005.png  hard_hat_workers4542.png\n",
            "hard_hat_workers148.png   hard_hat_workers3007.png  hard_hat_workers4548.png\n",
            "hard_hat_workers1495.png  hard_hat_workers3008.png  hard_hat_workers4549.png\n",
            "hard_hat_workers1517.png  hard_hat_workers3009.png  hard_hat_workers4553.png\n",
            "hard_hat_workers151.png   hard_hat_workers300.png   hard_hat_workers4562.png\n",
            "hard_hat_workers1521.png  hard_hat_workers3011.png  hard_hat_workers4566.png\n",
            "hard_hat_workers152.png   hard_hat_workers3012.png  hard_hat_workers4568.png\n",
            "hard_hat_workers1531.png  hard_hat_workers3015.png  hard_hat_workers456.png\n",
            "hard_hat_workers1544.png  hard_hat_workers3018.png  hard_hat_workers4573.png\n",
            "hard_hat_workers1551.png  hard_hat_workers3019.png  hard_hat_workers4577.png\n",
            "hard_hat_workers1553.png  hard_hat_workers3021.png  hard_hat_workers4579.png\n",
            "hard_hat_workers1556.png  hard_hat_workers3024.png  hard_hat_workers457.png\n",
            "hard_hat_workers1558.png  hard_hat_workers302.png   hard_hat_workers4580.png\n",
            "hard_hat_workers1564.png  hard_hat_workers3034.png  hard_hat_workers4583.png\n",
            "hard_hat_workers1573.png  hard_hat_workers3039.png  hard_hat_workers4586.png\n",
            "hard_hat_workers1580.png  hard_hat_workers303.png   hard_hat_workers4590.png\n",
            "hard_hat_workers1581.png  hard_hat_workers3040.png  hard_hat_workers4592.png\n",
            "hard_hat_workers1586.png  hard_hat_workers3041.png  hard_hat_workers4594.png\n",
            "hard_hat_workers1587.png  hard_hat_workers3045.png  hard_hat_workers45.png\n",
            "hard_hat_workers1588.png  hard_hat_workers3046.png  hard_hat_workers4606.png\n",
            "hard_hat_workers1595.png  hard_hat_workers3050.png  hard_hat_workers4608.png\n",
            "hard_hat_workers159.png   hard_hat_workers3061.png  hard_hat_workers4610.png\n",
            "hard_hat_workers1601.png  hard_hat_workers3069.png  hard_hat_workers4615.png\n",
            "hard_hat_workers1604.png  hard_hat_workers306.png   hard_hat_workers4617.png\n",
            "hard_hat_workers1609.png  hard_hat_workers3070.png  hard_hat_workers4618.png\n",
            "hard_hat_workers160.png   hard_hat_workers3080.png  hard_hat_workers461.png\n",
            "hard_hat_workers1610.png  hard_hat_workers3082.png  hard_hat_workers4621.png\n",
            "hard_hat_workers1614.png  hard_hat_workers3087.png  hard_hat_workers4622.png\n",
            "hard_hat_workers1616.png  hard_hat_workers3089.png  hard_hat_workers4623.png\n",
            "hard_hat_workers1617.png  hard_hat_workers3094.png  hard_hat_workers4624.png\n",
            "hard_hat_workers1628.png  hard_hat_workers3097.png  hard_hat_workers4629.png\n",
            "hard_hat_workers1639.png  hard_hat_workers3102.png  hard_hat_workers4630.png\n",
            "hard_hat_workers163.png   hard_hat_workers310.png   hard_hat_workers4646.png\n",
            "hard_hat_workers1642.png  hard_hat_workers3110.png  hard_hat_workers4647.png\n",
            "hard_hat_workers1645.png  hard_hat_workers3113.png  hard_hat_workers4648.png\n",
            "hard_hat_workers1658.png  hard_hat_workers3117.png  hard_hat_workers464.png\n",
            "hard_hat_workers1660.png  hard_hat_workers3119.png  hard_hat_workers4654.png\n",
            "hard_hat_workers1661.png  hard_hat_workers311.png   hard_hat_workers4656.png\n",
            "hard_hat_workers1662.png  hard_hat_workers3121.png  hard_hat_workers4658.png\n",
            "hard_hat_workers1670.png  hard_hat_workers3127.png  hard_hat_workers4662.png\n",
            "hard_hat_workers1671.png  hard_hat_workers3132.png  hard_hat_workers4674.png\n",
            "hard_hat_workers1676.png  hard_hat_workers3137.png  hard_hat_workers4678.png\n",
            "hard_hat_workers1680.png  hard_hat_workers3142.png  hard_hat_workers467.png\n",
            "hard_hat_workers1682.png  hard_hat_workers3144.png  hard_hat_workers4682.png\n",
            "hard_hat_workers1703.png  hard_hat_workers3149.png  hard_hat_workers4689.png\n",
            "hard_hat_workers1705.png  hard_hat_workers3154.png  hard_hat_workers4691.png\n",
            "hard_hat_workers1706.png  hard_hat_workers3166.png  hard_hat_workers4693.png\n",
            "hard_hat_workers1709.png  hard_hat_workers3170.png  hard_hat_workers469.png\n",
            "hard_hat_workers1710.png  hard_hat_workers3172.png  hard_hat_workers4700.png\n",
            "hard_hat_workers1713.png  hard_hat_workers3177.png  hard_hat_workers4704.png\n",
            "hard_hat_workers1715.png  hard_hat_workers3178.png  hard_hat_workers4706.png\n",
            "hard_hat_workers1718.png  hard_hat_workers317.png   hard_hat_workers4707.png\n",
            "hard_hat_workers1719.png  hard_hat_workers3188.png  hard_hat_workers4717.png\n",
            "hard_hat_workers1727.png  hard_hat_workers3195.png  hard_hat_workers471.png\n",
            "hard_hat_workers1728.png  hard_hat_workers3197.png  hard_hat_workers4722.png\n",
            "hard_hat_workers1737.png  hard_hat_workers3205.png  hard_hat_workers4736.png\n",
            "hard_hat_workers1741.png  hard_hat_workers3210.png  hard_hat_workers4740.png\n",
            "hard_hat_workers1753.png  hard_hat_workers3216.png  hard_hat_workers4741.png\n",
            "hard_hat_workers1755.png  hard_hat_workers322.png   hard_hat_workers4742.png\n",
            "hard_hat_workers1760.png  hard_hat_workers3235.png  hard_hat_workers4744.png\n",
            "hard_hat_workers1761.png  hard_hat_workers323.png   hard_hat_workers4747.png\n",
            "hard_hat_workers1762.png  hard_hat_workers3243.png  hard_hat_workers4748.png\n",
            "hard_hat_workers1763.png  hard_hat_workers3245.png  hard_hat_workers4749.png\n",
            "hard_hat_workers1767.png  hard_hat_workers3246.png  hard_hat_workers474.png\n",
            "hard_hat_workers1768.png  hard_hat_workers324.png   hard_hat_workers4759.png\n",
            "hard_hat_workers1777.png  hard_hat_workers3255.png  hard_hat_workers4763.png\n",
            "hard_hat_workers1779.png  hard_hat_workers3260.png  hard_hat_workers4766.png\n",
            "hard_hat_workers1786.png  hard_hat_workers3265.png  hard_hat_workers4770.png\n",
            "hard_hat_workers1790.png  hard_hat_workers3275.png  hard_hat_workers4776.png\n",
            "hard_hat_workers1796.png  hard_hat_workers3279.png  hard_hat_workers4786.png\n",
            "hard_hat_workers17.png\t  hard_hat_workers3282.png  hard_hat_workers4788.png\n",
            "hard_hat_workers1800.png  hard_hat_workers3288.png  hard_hat_workers4789.png\n",
            "hard_hat_workers1803.png  hard_hat_workers3295.png  hard_hat_workers478.png\n",
            "hard_hat_workers1805.png  hard_hat_workers3296.png  hard_hat_workers4790.png\n",
            "hard_hat_workers1809.png  hard_hat_workers3299.png  hard_hat_workers4791.png\n",
            "hard_hat_workers180.png   hard_hat_workers32.png    hard_hat_workers4794.png\n",
            "hard_hat_workers1811.png  hard_hat_workers3314.png  hard_hat_workers4795.png\n",
            "hard_hat_workers1812.png  hard_hat_workers3315.png  hard_hat_workers4796.png\n",
            "hard_hat_workers1817.png  hard_hat_workers3320.png  hard_hat_workers4805.png\n",
            "hard_hat_workers1818.png  hard_hat_workers3326.png  hard_hat_workers4807.png\n",
            "hard_hat_workers1822.png  hard_hat_workers3333.png  hard_hat_workers4812.png\n",
            "hard_hat_workers1824.png  hard_hat_workers3338.png  hard_hat_workers4816.png\n",
            "hard_hat_workers1828.png  hard_hat_workers3342.png  hard_hat_workers4817.png\n",
            "hard_hat_workers1829.png  hard_hat_workers3344.png  hard_hat_workers481.png\n",
            "hard_hat_workers1832.png  hard_hat_workers3345.png  hard_hat_workers4822.png\n",
            "hard_hat_workers1835.png  hard_hat_workers3348.png  hard_hat_workers4824.png\n",
            "hard_hat_workers1836.png  hard_hat_workers3358.png  hard_hat_workers4826.png\n",
            "hard_hat_workers1841.png  hard_hat_workers3359.png  hard_hat_workers4832.png\n",
            "hard_hat_workers1848.png  hard_hat_workers3360.png  hard_hat_workers4833.png\n",
            "hard_hat_workers1858.png  hard_hat_workers3361.png  hard_hat_workers4837.png\n",
            "hard_hat_workers1861.png  hard_hat_workers3376.png  hard_hat_workers4838.png\n",
            "hard_hat_workers1862.png  hard_hat_workers3387.png  hard_hat_workers4842.png\n",
            "hard_hat_workers1870.png  hard_hat_workers3392.png  hard_hat_workers4846.png\n",
            "hard_hat_workers1871.png  hard_hat_workers3395.png  hard_hat_workers4851.png\n",
            "hard_hat_workers1874.png  hard_hat_workers3396.png  hard_hat_workers4852.png\n",
            "hard_hat_workers1878.png  hard_hat_workers33.png    hard_hat_workers4856.png\n",
            "hard_hat_workers1879.png  hard_hat_workers3401.png  hard_hat_workers4859.png\n",
            "hard_hat_workers187.png   hard_hat_workers3408.png  hard_hat_workers4861.png\n",
            "hard_hat_workers1885.png  hard_hat_workers3413.png  hard_hat_workers4865.png\n",
            "hard_hat_workers1889.png  hard_hat_workers3417.png  hard_hat_workers4878.png\n",
            "hard_hat_workers188.png   hard_hat_workers3421.png  hard_hat_workers4887.png\n",
            "hard_hat_workers1890.png  hard_hat_workers3423.png  hard_hat_workers4897.png\n",
            "hard_hat_workers1892.png  hard_hat_workers3426.png  hard_hat_workers48.png\n",
            "hard_hat_workers1893.png  hard_hat_workers3429.png  hard_hat_workers4900.png\n",
            "hard_hat_workers1894.png  hard_hat_workers3435.png  hard_hat_workers4903.png\n",
            "hard_hat_workers1898.png  hard_hat_workers3443.png  hard_hat_workers4911.png\n",
            "hard_hat_workers1900.png  hard_hat_workers3445.png  hard_hat_workers4916.png\n",
            "hard_hat_workers1902.png  hard_hat_workers3450.png  hard_hat_workers4920.png\n",
            "hard_hat_workers190.png   hard_hat_workers3451.png  hard_hat_workers4927.png\n",
            "hard_hat_workers1916.png  hard_hat_workers3454.png  hard_hat_workers4937.png\n",
            "hard_hat_workers1917.png  hard_hat_workers3459.png  hard_hat_workers493.png\n",
            "hard_hat_workers1924.png  hard_hat_workers3460.png  hard_hat_workers4950.png\n",
            "hard_hat_workers1930.png  hard_hat_workers3464.png  hard_hat_workers4954.png\n",
            "hard_hat_workers1938.png  hard_hat_workers3465.png  hard_hat_workers4957.png\n",
            "hard_hat_workers1947.png  hard_hat_workers3479.png  hard_hat_workers4964.png\n",
            "hard_hat_workers1948.png  hard_hat_workers3481.png  hard_hat_workers4968.png\n",
            "hard_hat_workers1951.png  hard_hat_workers3485.png  hard_hat_workers4973.png\n",
            "hard_hat_workers1955.png  hard_hat_workers3490.png  hard_hat_workers4976.png\n",
            "hard_hat_workers1957.png  hard_hat_workers3499.png  hard_hat_workers4977.png\n",
            "hard_hat_workers1961.png  hard_hat_workers349.png   hard_hat_workers497.png\n",
            "hard_hat_workers1963.png  hard_hat_workers3503.png  hard_hat_workers4982.png\n",
            "hard_hat_workers1964.png  hard_hat_workers3507.png  hard_hat_workers4989.png\n",
            "hard_hat_workers1965.png  hard_hat_workers3513.png  hard_hat_workers4992.png\n",
            "hard_hat_workers1966.png  hard_hat_workers3516.png  hard_hat_workers4999.png\n",
            "hard_hat_workers1975.png  hard_hat_workers3519.png  hard_hat_workers4.png\n",
            "hard_hat_workers1979.png  hard_hat_workers3530.png  hard_hat_workers503.png\n",
            "hard_hat_workers1980.png  hard_hat_workers3533.png  hard_hat_workers504.png\n",
            "hard_hat_workers1982.png  hard_hat_workers3534.png  hard_hat_workers505.png\n",
            "hard_hat_workers1991.png  hard_hat_workers3536.png  hard_hat_workers514.png\n",
            "hard_hat_workers1992.png  hard_hat_workers3538.png  hard_hat_workers51.png\n",
            "hard_hat_workers1993.png  hard_hat_workers353.png   hard_hat_workers520.png\n",
            "hard_hat_workers1996.png  hard_hat_workers3541.png  hard_hat_workers524.png\n",
            "hard_hat_workers1998.png  hard_hat_workers3548.png  hard_hat_workers529.png\n",
            "hard_hat_workers1999.png  hard_hat_workers3549.png  hard_hat_workers534.png\n",
            "hard_hat_workers2002.png  hard_hat_workers354.png   hard_hat_workers536.png\n",
            "hard_hat_workers2004.png  hard_hat_workers3557.png  hard_hat_workers537.png\n",
            "hard_hat_workers2009.png  hard_hat_workers3563.png  hard_hat_workers538.png\n",
            "hard_hat_workers2010.png  hard_hat_workers3564.png  hard_hat_workers53.png\n",
            "hard_hat_workers2017.png  hard_hat_workers3567.png  hard_hat_workers542.png\n",
            "hard_hat_workers2018.png  hard_hat_workers3571.png  hard_hat_workers543.png\n",
            "hard_hat_workers2021.png  hard_hat_workers3573.png  hard_hat_workers544.png\n",
            "hard_hat_workers2029.png  hard_hat_workers3574.png  hard_hat_workers54.png\n",
            "hard_hat_workers2031.png  hard_hat_workers357.png   hard_hat_workers551.png\n",
            "hard_hat_workers2033.png  hard_hat_workers3580.png  hard_hat_workers552.png\n",
            "hard_hat_workers203.png   hard_hat_workers3581.png  hard_hat_workers559.png\n",
            "hard_hat_workers2045.png  hard_hat_workers3585.png  hard_hat_workers55.png\n",
            "hard_hat_workers2047.png  hard_hat_workers3590.png  hard_hat_workers560.png\n",
            "hard_hat_workers2048.png  hard_hat_workers3595.png  hard_hat_workers571.png\n",
            "hard_hat_workers2052.png  hard_hat_workers3597.png  hard_hat_workers574.png\n",
            "hard_hat_workers2057.png  hard_hat_workers3608.png  hard_hat_workers57.png\n",
            "hard_hat_workers2061.png  hard_hat_workers3609.png  hard_hat_workers584.png\n",
            "hard_hat_workers2063.png  hard_hat_workers3613.png  hard_hat_workers589.png\n",
            "hard_hat_workers2065.png  hard_hat_workers3616.png  hard_hat_workers58.png\n",
            "hard_hat_workers2069.png  hard_hat_workers3620.png  hard_hat_workers595.png\n",
            "hard_hat_workers206.png   hard_hat_workers3622.png  hard_hat_workers596.png\n",
            "hard_hat_workers2070.png  hard_hat_workers3626.png  hard_hat_workers599.png\n",
            "hard_hat_workers2084.png  hard_hat_workers3628.png  hard_hat_workers59.png\n",
            "hard_hat_workers2089.png  hard_hat_workers3630.png  hard_hat_workers603.png\n",
            "hard_hat_workers2092.png  hard_hat_workers3632.png  hard_hat_workers609.png\n",
            "hard_hat_workers2094.png  hard_hat_workers3638.png  hard_hat_workers612.png\n",
            "hard_hat_workers2095.png  hard_hat_workers3647.png  hard_hat_workers613.png\n",
            "hard_hat_workers2100.png  hard_hat_workers364.png   hard_hat_workers615.png\n",
            "hard_hat_workers2105.png  hard_hat_workers3651.png  hard_hat_workers620.png\n",
            "hard_hat_workers2112.png  hard_hat_workers3652.png  hard_hat_workers622.png\n",
            "hard_hat_workers2124.png  hard_hat_workers3656.png  hard_hat_workers623.png\n",
            "hard_hat_workers2128.png  hard_hat_workers3659.png  hard_hat_workers629.png\n",
            "hard_hat_workers2155.png  hard_hat_workers3660.png  hard_hat_workers630.png\n",
            "hard_hat_workers2157.png  hard_hat_workers3661.png  hard_hat_workers633.png\n",
            "hard_hat_workers2165.png  hard_hat_workers3662.png  hard_hat_workers643.png\n",
            "hard_hat_workers2170.png  hard_hat_workers3664.png  hard_hat_workers655.png\n",
            "hard_hat_workers2174.png  hard_hat_workers3670.png  hard_hat_workers657.png\n",
            "hard_hat_workers2175.png  hard_hat_workers3677.png  hard_hat_workers661.png\n",
            "hard_hat_workers2184.png  hard_hat_workers367.png   hard_hat_workers662.png\n",
            "hard_hat_workers2190.png  hard_hat_workers3688.png  hard_hat_workers663.png\n",
            "hard_hat_workers2193.png  hard_hat_workers3691.png  hard_hat_workers66.png\n",
            "hard_hat_workers2195.png  hard_hat_workers36.png    hard_hat_workers671.png\n",
            "hard_hat_workers2196.png  hard_hat_workers3701.png  hard_hat_workers673.png\n",
            "hard_hat_workers2198.png  hard_hat_workers3708.png  hard_hat_workers674.png\n",
            "hard_hat_workers2199.png  hard_hat_workers3712.png  hard_hat_workers677.png\n",
            "hard_hat_workers21.png\t  hard_hat_workers3717.png  hard_hat_workers678.png\n",
            "hard_hat_workers2202.png  hard_hat_workers3720.png  hard_hat_workers684.png\n",
            "hard_hat_workers2203.png  hard_hat_workers3724.png  hard_hat_workers696.png\n",
            "hard_hat_workers2210.png  hard_hat_workers3726.png  hard_hat_workers69.png\n",
            "hard_hat_workers2216.png  hard_hat_workers372.png   hard_hat_workers704.png\n",
            "hard_hat_workers221.png   hard_hat_workers3731.png  hard_hat_workers709.png\n",
            "hard_hat_workers2225.png  hard_hat_workers3739.png  hard_hat_workers712.png\n",
            "hard_hat_workers2229.png  hard_hat_workers373.png   hard_hat_workers713.png\n",
            "hard_hat_workers2231.png  hard_hat_workers3742.png  hard_hat_workers715.png\n",
            "hard_hat_workers2232.png  hard_hat_workers3746.png  hard_hat_workers718.png\n",
            "hard_hat_workers2235.png  hard_hat_workers3749.png  hard_hat_workers71.png\n",
            "hard_hat_workers2238.png  hard_hat_workers3750.png  hard_hat_workers723.png\n",
            "hard_hat_workers223.png   hard_hat_workers3752.png  hard_hat_workers724.png\n",
            "hard_hat_workers2243.png  hard_hat_workers3757.png  hard_hat_workers727.png\n",
            "hard_hat_workers2245.png  hard_hat_workers3763.png  hard_hat_workers732.png\n",
            "hard_hat_workers2249.png  hard_hat_workers3765.png  hard_hat_workers735.png\n",
            "hard_hat_workers2250.png  hard_hat_workers3771.png  hard_hat_workers736.png\n",
            "hard_hat_workers2252.png  hard_hat_workers3777.png  hard_hat_workers740.png\n",
            "hard_hat_workers2253.png  hard_hat_workers377.png   hard_hat_workers741.png\n",
            "hard_hat_workers2254.png  hard_hat_workers3781.png  hard_hat_workers742.png\n",
            "hard_hat_workers2255.png  hard_hat_workers3788.png  hard_hat_workers755.png\n",
            "hard_hat_workers2257.png  hard_hat_workers3796.png  hard_hat_workers760.png\n",
            "hard_hat_workers2259.png  hard_hat_workers3800.png  hard_hat_workers769.png\n",
            "hard_hat_workers2263.png  hard_hat_workers3801.png  hard_hat_workers76.png\n",
            "hard_hat_workers2266.png  hard_hat_workers3802.png  hard_hat_workers77.png\n",
            "hard_hat_workers2267.png  hard_hat_workers3803.png  hard_hat_workers780.png\n",
            "hard_hat_workers226.png   hard_hat_workers3808.png  hard_hat_workers789.png\n",
            "hard_hat_workers2275.png  hard_hat_workers3813.png  hard_hat_workers796.png\n",
            "hard_hat_workers2276.png  hard_hat_workers3825.png  hard_hat_workers7.png\n",
            "hard_hat_workers2278.png  hard_hat_workers3828.png  hard_hat_workers807.png\n",
            "hard_hat_workers2279.png  hard_hat_workers3830.png  hard_hat_workers809.png\n",
            "hard_hat_workers227.png   hard_hat_workers3832.png  hard_hat_workers817.png\n",
            "hard_hat_workers2285.png  hard_hat_workers3847.png  hard_hat_workers819.png\n",
            "hard_hat_workers2287.png  hard_hat_workers3848.png  hard_hat_workers822.png\n",
            "hard_hat_workers2289.png  hard_hat_workers3853.png  hard_hat_workers830.png\n",
            "hard_hat_workers2292.png  hard_hat_workers3855.png  hard_hat_workers831.png\n",
            "hard_hat_workers2296.png  hard_hat_workers385.png   hard_hat_workers832.png\n",
            "hard_hat_workers22.png\t  hard_hat_workers3862.png  hard_hat_workers83.png\n",
            "hard_hat_workers2303.png  hard_hat_workers3867.png  hard_hat_workers843.png\n",
            "hard_hat_workers2305.png  hard_hat_workers3874.png  hard_hat_workers846.png\n",
            "hard_hat_workers2320.png  hard_hat_workers3877.png  hard_hat_workers850.png\n",
            "hard_hat_workers2328.png  hard_hat_workers3878.png  hard_hat_workers851.png\n",
            "hard_hat_workers2330.png  hard_hat_workers387.png   hard_hat_workers857.png\n",
            "hard_hat_workers2332.png  hard_hat_workers3880.png  hard_hat_workers86.png\n",
            "hard_hat_workers2349.png  hard_hat_workers3884.png  hard_hat_workers873.png\n",
            "hard_hat_workers2355.png  hard_hat_workers3888.png  hard_hat_workers877.png\n",
            "hard_hat_workers2356.png  hard_hat_workers3897.png  hard_hat_workers878.png\n",
            "hard_hat_workers2357.png  hard_hat_workers3900.png  hard_hat_workers87.png\n",
            "hard_hat_workers235.png   hard_hat_workers3901.png  hard_hat_workers898.png\n",
            "hard_hat_workers2365.png  hard_hat_workers3905.png  hard_hat_workers899.png\n",
            "hard_hat_workers2367.png  hard_hat_workers3911.png  hard_hat_workers89.png\n",
            "hard_hat_workers2372.png  hard_hat_workers3914.png  hard_hat_workers8.png\n",
            "hard_hat_workers2373.png  hard_hat_workers3918.png  hard_hat_workers900.png\n",
            "hard_hat_workers2374.png  hard_hat_workers3920.png  hard_hat_workers904.png\n",
            "hard_hat_workers2378.png  hard_hat_workers3943.png  hard_hat_workers905.png\n",
            "hard_hat_workers2381.png  hard_hat_workers3947.png  hard_hat_workers908.png\n",
            "hard_hat_workers2394.png  hard_hat_workers3951.png  hard_hat_workers90.png\n",
            "hard_hat_workers2395.png  hard_hat_workers3957.png  hard_hat_workers912.png\n",
            "hard_hat_workers2397.png  hard_hat_workers3962.png  hard_hat_workers919.png\n",
            "hard_hat_workers2399.png  hard_hat_workers3972.png  hard_hat_workers921.png\n",
            "hard_hat_workers2400.png  hard_hat_workers3975.png  hard_hat_workers925.png\n",
            "hard_hat_workers2401.png  hard_hat_workers3976.png  hard_hat_workers937.png\n",
            "hard_hat_workers2405.png  hard_hat_workers3977.png  hard_hat_workers944.png\n",
            "hard_hat_workers2417.png  hard_hat_workers3979.png  hard_hat_workers94.png\n",
            "hard_hat_workers2419.png  hard_hat_workers3981.png  hard_hat_workers952.png\n",
            "hard_hat_workers2420.png  hard_hat_workers3986.png  hard_hat_workers95.png\n",
            "hard_hat_workers2426.png  hard_hat_workers3988.png  hard_hat_workers960.png\n",
            "hard_hat_workers2432.png  hard_hat_workers3989.png  hard_hat_workers973.png\n",
            "hard_hat_workers2433.png  hard_hat_workers3994.png  hard_hat_workers974.png\n",
            "hard_hat_workers2436.png  hard_hat_workers399.png   hard_hat_workers97.png\n",
            "hard_hat_workers2441.png  hard_hat_workers4006.png  hard_hat_workers981.png\n",
            "hard_hat_workers244.png   hard_hat_workers4012.png  hard_hat_workers983.png\n",
            "hard_hat_workers2452.png  hard_hat_workers4016.png  hard_hat_workers986.png\n",
            "hard_hat_workers2454.png  hard_hat_workers4021.png  hard_hat_workers990.png\n",
            "hard_hat_workers2455.png  hard_hat_workers4029.png  hard_hat_workers993.png\n",
            "hard_hat_workers2456.png  hard_hat_workers4033.png  hard_hat_workers996.png\n",
            "hard_hat_workers2465.png  hard_hat_workers4035.png  hard_hat_workers997.png\n",
            "hard_hat_workers2467.png  hard_hat_workers4036.png  hard_hat_workers998.png\n",
            "hard_hat_workers2471.png  hard_hat_workers4039.png  hard_hat_workers9.png\n",
            "hard_hat_workers2475.png  hard_hat_workers4046.png\n"
          ]
        }
      ]
    },
    {
      "cell_type": "code",
      "source": [
        "!git clone https://github.com/ultralytics/ultralytics"
      ],
      "metadata": {
        "colab": {
          "base_uri": "https://localhost:8080/"
        },
        "id": "1XkTRa5hBPFf",
        "outputId": "305adb2c-1522-403f-a65c-978676f4645c"
      },
      "execution_count": 68,
      "outputs": [
        {
          "output_type": "stream",
          "name": "stdout",
          "text": [
            "fatal: destination path 'ultralytics' already exists and is not an empty directory.\n"
          ]
        }
      ]
    },
    {
      "cell_type": "code",
      "source": [
        "!pip install ultralytics"
      ],
      "metadata": {
        "colab": {
          "base_uri": "https://localhost:8080/"
        },
        "id": "S9BH7298LlYh",
        "outputId": "689af63a-0a8d-4fe0-e063-33eaa63f182f"
      },
      "execution_count": 69,
      "outputs": [
        {
          "output_type": "stream",
          "name": "stdout",
          "text": [
            "Looking in indexes: https://pypi.org/simple, https://us-python.pkg.dev/colab-wheels/public/simple/\n",
            "Requirement already satisfied: ultralytics in /usr/local/lib/python3.10/dist-packages (8.0.110)\n",
            "Requirement already satisfied: matplotlib>=3.2.2 in /usr/local/lib/python3.10/dist-packages (from ultralytics) (3.7.1)\n",
            "Requirement already satisfied: opencv-python>=4.6.0 in /usr/local/lib/python3.10/dist-packages (from ultralytics) (4.7.0.72)\n",
            "Requirement already satisfied: Pillow>=7.1.2 in /usr/local/lib/python3.10/dist-packages (from ultralytics) (8.4.0)\n",
            "Requirement already satisfied: PyYAML>=5.3.1 in /usr/local/lib/python3.10/dist-packages (from ultralytics) (6.0)\n",
            "Requirement already satisfied: requests>=2.23.0 in /usr/local/lib/python3.10/dist-packages (from ultralytics) (2.27.1)\n",
            "Requirement already satisfied: scipy>=1.4.1 in /usr/local/lib/python3.10/dist-packages (from ultralytics) (1.10.1)\n",
            "Requirement already satisfied: torch>=1.7.0 in /usr/local/lib/python3.10/dist-packages (from ultralytics) (2.0.1+cu118)\n",
            "Requirement already satisfied: torchvision>=0.8.1 in /usr/local/lib/python3.10/dist-packages (from ultralytics) (0.15.2+cu118)\n",
            "Requirement already satisfied: tqdm>=4.64.0 in /usr/local/lib/python3.10/dist-packages (from ultralytics) (4.65.0)\n",
            "Requirement already satisfied: pandas>=1.1.4 in /usr/local/lib/python3.10/dist-packages (from ultralytics) (1.5.3)\n",
            "Requirement already satisfied: seaborn>=0.11.0 in /usr/local/lib/python3.10/dist-packages (from ultralytics) (0.12.2)\n",
            "Requirement already satisfied: psutil in /usr/local/lib/python3.10/dist-packages (from ultralytics) (5.9.5)\n",
            "Requirement already satisfied: contourpy>=1.0.1 in /usr/local/lib/python3.10/dist-packages (from matplotlib>=3.2.2->ultralytics) (1.0.7)\n",
            "Requirement already satisfied: cycler>=0.10 in /usr/local/lib/python3.10/dist-packages (from matplotlib>=3.2.2->ultralytics) (0.11.0)\n",
            "Requirement already satisfied: fonttools>=4.22.0 in /usr/local/lib/python3.10/dist-packages (from matplotlib>=3.2.2->ultralytics) (4.39.3)\n",
            "Requirement already satisfied: kiwisolver>=1.0.1 in /usr/local/lib/python3.10/dist-packages (from matplotlib>=3.2.2->ultralytics) (1.4.4)\n",
            "Requirement already satisfied: numpy>=1.20 in /usr/local/lib/python3.10/dist-packages (from matplotlib>=3.2.2->ultralytics) (1.22.4)\n",
            "Requirement already satisfied: packaging>=20.0 in /usr/local/lib/python3.10/dist-packages (from matplotlib>=3.2.2->ultralytics) (23.1)\n",
            "Requirement already satisfied: pyparsing>=2.3.1 in /usr/local/lib/python3.10/dist-packages (from matplotlib>=3.2.2->ultralytics) (3.0.9)\n",
            "Requirement already satisfied: python-dateutil>=2.7 in /usr/local/lib/python3.10/dist-packages (from matplotlib>=3.2.2->ultralytics) (2.8.2)\n",
            "Requirement already satisfied: pytz>=2020.1 in /usr/local/lib/python3.10/dist-packages (from pandas>=1.1.4->ultralytics) (2022.7.1)\n",
            "Requirement already satisfied: urllib3<1.27,>=1.21.1 in /usr/local/lib/python3.10/dist-packages (from requests>=2.23.0->ultralytics) (1.26.15)\n",
            "Requirement already satisfied: certifi>=2017.4.17 in /usr/local/lib/python3.10/dist-packages (from requests>=2.23.0->ultralytics) (2022.12.7)\n",
            "Requirement already satisfied: charset-normalizer~=2.0.0 in /usr/local/lib/python3.10/dist-packages (from requests>=2.23.0->ultralytics) (2.0.12)\n",
            "Requirement already satisfied: idna<4,>=2.5 in /usr/local/lib/python3.10/dist-packages (from requests>=2.23.0->ultralytics) (3.4)\n",
            "Requirement already satisfied: filelock in /usr/local/lib/python3.10/dist-packages (from torch>=1.7.0->ultralytics) (3.12.0)\n",
            "Requirement already satisfied: typing-extensions in /usr/local/lib/python3.10/dist-packages (from torch>=1.7.0->ultralytics) (4.5.0)\n",
            "Requirement already satisfied: sympy in /usr/local/lib/python3.10/dist-packages (from torch>=1.7.0->ultralytics) (1.11.1)\n",
            "Requirement already satisfied: networkx in /usr/local/lib/python3.10/dist-packages (from torch>=1.7.0->ultralytics) (3.1)\n",
            "Requirement already satisfied: jinja2 in /usr/local/lib/python3.10/dist-packages (from torch>=1.7.0->ultralytics) (3.1.2)\n",
            "Requirement already satisfied: triton==2.0.0 in /usr/local/lib/python3.10/dist-packages (from torch>=1.7.0->ultralytics) (2.0.0)\n",
            "Requirement already satisfied: cmake in /usr/local/lib/python3.10/dist-packages (from triton==2.0.0->torch>=1.7.0->ultralytics) (3.25.2)\n",
            "Requirement already satisfied: lit in /usr/local/lib/python3.10/dist-packages (from triton==2.0.0->torch>=1.7.0->ultralytics) (16.0.5)\n",
            "Requirement already satisfied: six>=1.5 in /usr/local/lib/python3.10/dist-packages (from python-dateutil>=2.7->matplotlib>=3.2.2->ultralytics) (1.16.0)\n",
            "Requirement already satisfied: MarkupSafe>=2.0 in /usr/local/lib/python3.10/dist-packages (from jinja2->torch>=1.7.0->ultralytics) (2.1.2)\n",
            "Requirement already satisfied: mpmath>=0.19 in /usr/local/lib/python3.10/dist-packages (from sympy->torch>=1.7.0->ultralytics) (1.3.0)\n"
          ]
        }
      ]
    },
    {
      "cell_type": "code",
      "source": [
        "import yaml\n",
        "\n",
        "# Create configuration\n",
        "config = {\n",
        "   \"path\": \"/content/drive/MyDrive/images all\",\n",
        "   \"train\": \"train\",\n",
        "   \"val\": \"val\",\n",
        "   \"test\": \"test\",\n",
        "   \"nc\": 3,\n",
        "   \"names\": ['helmet','head','person']\n",
        "}\n",
        "with open(\"data.yaml\", \"w\") as file:\n",
        "   yaml.dump(config, file, default_flow_style=False)"
      ],
      "metadata": {
        "id": "F_2axImeCZc9"
      },
      "execution_count": 85,
      "outputs": []
    },
    {
      "cell_type": "code",
      "source": [
        "!cat data.yaml"
      ],
      "metadata": {
        "colab": {
          "base_uri": "https://localhost:8080/"
        },
        "id": "A4HLtTIWChjs",
        "outputId": "dd524515-c35a-4168-dbd7-6e3424dd8574"
      },
      "execution_count": 86,
      "outputs": [
        {
          "output_type": "stream",
          "name": "stdout",
          "text": [
            "names:\n",
            "- helmet\n",
            "- head\n",
            "- person\n",
            "nc: 3\n",
            "path: /content/drive/MyDrive/images all\n",
            "test: test\n",
            "train: train\n",
            "val: val\n"
          ]
        }
      ]
    },
    {
      "cell_type": "code",
      "source": [
        "!wandb disabled"
      ],
      "metadata": {
        "colab": {
          "base_uri": "https://localhost:8080/"
        },
        "id": "TnV3lrgMCkLm",
        "outputId": "e8d2941e-91d6-43eb-def7-3838bb6b8489"
      },
      "execution_count": 87,
      "outputs": [
        {
          "output_type": "stream",
          "name": "stdout",
          "text": [
            "/bin/bash: wandb: command not found\n"
          ]
        }
      ]
    },
    {
      "cell_type": "code",
      "source": [
        "!yolo task=detect mode=train data=data.yaml model=yolov8s.pt epochs=10 lr0=0.01"
      ],
      "metadata": {
        "colab": {
          "base_uri": "https://localhost:8080/"
        },
        "id": "l1qrfw7ICpL6",
        "outputId": "ecbddf2b-d068-4c14-8d2c-a94639b58d66"
      },
      "execution_count": 88,
      "outputs": [
        {
          "output_type": "stream",
          "name": "stdout",
          "text": [
            "Ultralytics YOLOv8.0.110 🚀 Python-3.10.11 torch-2.0.1+cu118 CPU\n",
            "\u001b[34m\u001b[1myolo/engine/trainer: \u001b[0mtask=detect, mode=train, model=yolov8s.pt, data=data.yaml, epochs=10, patience=50, batch=16, imgsz=640, save=True, save_period=-1, cache=False, device=None, workers=8, project=None, name=None, exist_ok=False, pretrained=False, optimizer=SGD, verbose=True, seed=0, deterministic=True, single_cls=False, rect=False, cos_lr=False, close_mosaic=0, resume=False, amp=True, fraction=1.0, profile=False, overlap_mask=True, mask_ratio=4, dropout=0.0, val=True, split=val, save_json=False, save_hybrid=False, conf=None, iou=0.7, max_det=300, half=False, dnn=False, plots=True, source=None, show=False, save_txt=False, save_conf=False, save_crop=False, show_labels=True, show_conf=True, vid_stride=1, line_width=None, visualize=False, augment=False, agnostic_nms=False, classes=None, retina_masks=False, boxes=True, format=torchscript, keras=False, optimize=False, int8=False, dynamic=False, simplify=False, opset=None, workspace=4, nms=False, lr0=0.01, lrf=0.01, momentum=0.937, weight_decay=0.0005, warmup_epochs=3.0, warmup_momentum=0.8, warmup_bias_lr=0.1, box=7.5, cls=0.5, dfl=1.5, pose=12.0, kobj=1.0, label_smoothing=0.0, nbs=64, hsv_h=0.015, hsv_s=0.7, hsv_v=0.4, degrees=0.0, translate=0.1, scale=0.5, shear=0.0, perspective=0.0, flipud=0.0, fliplr=0.5, mosaic=1.0, mixup=0.0, copy_paste=0.0, cfg=None, v5loader=False, tracker=botsort.yaml, save_dir=runs/detect/train10\n",
            "Traceback (most recent call last):\n",
            "  File \"/usr/local/lib/python3.10/dist-packages/ultralytics/yolo/engine/trainer.py\", line 123, in __init__\n",
            "    self.data = check_det_dataset(self.args.data)\n",
            "  File \"/usr/local/lib/python3.10/dist-packages/ultralytics/yolo/data/utils.py\", line 251, in check_det_dataset\n",
            "    raise FileNotFoundError(m)\n",
            "FileNotFoundError: \n",
            "Dataset 'data.yaml' images not found ⚠️, missing paths ['/content/drive/MyDrive/images all/val']\n",
            "Note dataset download directory is '/content/datasets'. You can update this in '/root/.config/Ultralytics/settings.yaml'\n",
            "\n",
            "The above exception was the direct cause of the following exception:\n",
            "\n",
            "Traceback (most recent call last):\n",
            "  File \"/usr/local/bin/yolo\", line 8, in <module>\n",
            "    sys.exit(entrypoint())\n",
            "  File \"/usr/local/lib/python3.10/dist-packages/ultralytics/yolo/cfg/__init__.py\", line 398, in entrypoint\n",
            "    getattr(model, mode)(**overrides)  # default args from model\n",
            "  File \"/usr/local/lib/python3.10/dist-packages/ultralytics/yolo/engine/model.py\", line 366, in train\n",
            "    self.trainer = TASK_MAP[self.task][1](overrides=overrides, _callbacks=self.callbacks)\n",
            "  File \"/usr/local/lib/python3.10/dist-packages/ultralytics/yolo/engine/trainer.py\", line 127, in __init__\n",
            "    raise RuntimeError(emojis(f\"Dataset '{clean_url(self.args.data)}' error ❌ {e}\")) from e\n",
            "RuntimeError: Dataset 'data.yaml' error ❌ \n",
            "Dataset 'data.yaml' images not found ⚠️, missing paths ['/content/drive/MyDrive/images all/val']\n",
            "Note dataset download directory is '/content/datasets'. You can update this in '/root/.config/Ultralytics/settings.yaml'\n"
          ]
        }
      ]
    }
  ]
}