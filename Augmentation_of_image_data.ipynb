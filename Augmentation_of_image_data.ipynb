{
  "cells": [
    {
      "cell_type": "markdown",
      "metadata": {
        "id": "view-in-github",
        "colab_type": "text"
      },
      "source": [
        "<a href=\"https://colab.research.google.com/github/muhammadalfateh6/Skin-lesion-Classification-Deep-learning/blob/main/Augmentation_of_image_data.ipynb\" target=\"_parent\"><img src=\"https://colab.research.google.com/assets/colab-badge.svg\" alt=\"Open In Colab\"/></a>"
      ]
    },
    {
      "cell_type": "code",
      "source": [
        "\n",
        "import os\n",
        "import numpy as np\n",
        "import matplotlib.pyplot as plt\n",
        "from tensorflow.keras.utils import array_to_img, img_to_array, load_img\n",
        "from keras.preprocessing.image import ImageDataGenerator\n",
        "\n",
        "input_dir = '/content/drive/MyDrive/2 - Melanoma'\n",
        "\n",
        "datagen= ImageDataGenerator(\n",
        "        rotation_range=90, # rotate image by up to 20 degrees\n",
        "        horizontal_flip=True, # flip image horizontally\n",
        "        fill_mode='nearest') # fill empty pixels with nearest value\n",
        "\n",
        "\n",
        "for img_file in os.listdir(input_dir):\n",
        "    # Load image\n",
        "    img = load_img(os.path.join(input_dir, img_file))\n",
        "\n",
        "    img = img.resize((768, 768))\n",
        "    # Convert image to array\n",
        "    x = img_to_array(img)\n",
        "    \n",
        "    x = x.reshape((1,) + x.shape)\n",
        "    \n",
        "    i = 0\n",
        "    for batch in datagen.flow(x, batch_size=1):\n",
        "        # Save augmented image to output directory\n",
        "        output_dir = '/content/drive/MyDrive/After Augmentation 3x'\n",
        "        img_name, img_ext = os.path.splitext(img_file)\n",
        "        new_img_file = img_name + '_aug_' + str(i+1) + img_ext\n",
        "        batch_img = array_to_img(batch[0])\n",
        "        batch_img.save(os.path.join(output_dir, new_img_file))\n",
        "        \n",
        "        i += 1\n",
        "        if i % 10 == 0:\n",
        "            break"
      ],
      "metadata": {
        "id": "L2_phniIBwGf"
      },
      "execution_count": null,
      "outputs": []
    }
  ],
  "metadata": {
    "colab": {
      "provenance": [],
      "include_colab_link": true
    },
    "kernelspec": {
      "display_name": "Python 3",
      "name": "python3"
    }
  },
  "nbformat": 4,
  "nbformat_minor": 0
}