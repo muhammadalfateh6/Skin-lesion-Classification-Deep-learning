{
  "cells": [
    {
      "cell_type": "markdown",
      "metadata": {
        "id": "view-in-github",
        "colab_type": "text"
      },
      "source": [
        "<a href=\"https://colab.research.google.com/github/muhammadalfateh6/Skin-lesion-Classification-Deep-learning/blob/main/VGG16_Gen_Set.ipynb\" target=\"_parent\"><img src=\"https://colab.research.google.com/assets/colab-badge.svg\" alt=\"Open In Colab\"/></a>"
      ]
    },
    {
      "cell_type": "code",
      "source": [
        "from google.colab import drive\n",
        "drive.mount('/content/drive')"
      ],
      "metadata": {
        "id": "T_Ihbj0ksOWY",
        "outputId": "e6608a86-3429-42f6-de19-48013ab017f1",
        "colab": {
          "base_uri": "https://localhost:8080/"
        }
      },
      "execution_count": null,
      "outputs": [
        {
          "output_type": "stream",
          "name": "stdout",
          "text": [
            "Mounted at /content/drive\n"
          ]
        }
      ]
    },
    {
      "cell_type": "code",
      "source": [
        "\n",
        "import tensorflow as tf\n",
        "from tensorflow.keras.callbacks import Callback\n",
        "from tensorflow.keras.preprocessing.image import ImageDataGenerator\n",
        "\n",
        "vgg_model = tf.keras.applications.vgg16.VGG16(weights='imagenet', include_top=False, input_shape=(224, 224, 3))\n",
        "\n",
        "for layer in vgg_model.layers:\n",
        "    layer.trainable = False\n",
        "\n",
        "main_directory = '/content/drive/MyDrive/Gen Set'\n",
        "train_directory = '/content/drive/MyDrive/Gen Set'\n",
        "test_directory = '/content/drive/MyDrive/Gen Set Test'\n",
        "\n",
        "train_path = '/content/drive/MyDrive/Gen Set'\n",
        "Benign_class = '/content/drive/MyDrive/Gen Set/Benign'\n",
        "Malignant_class = '/content/drive/MyDrive/Gen Set/Malignant'\n",
        "\n",
        "test_path = '/content/drive/MyDrive/Gen Set Test'\n",
        "Benign_class_test = '/content/drive/MyDrive/Gen Set Test/Benign Test'\n",
        "Malignant_class_test = '/content/drive/MyDrive/Gen Set Test/Malignant Test'\n",
        "\n",
        "data_generator = ImageDataGenerator(rescale=1./255)\n",
        "\n",
        "train_data = data_generator.flow_from_directory(train_directory,\n",
        "                                                 target_size=(224, 224),\n",
        "                                                 batch_size=32,\n",
        "                                                 class_mode='binary',\n",
        "                                                 classes=['Benign', 'Malignant'],\n",
        "                                                 shuffle=True,\n",
        "                                                 save_to_dir=train_path,\n",
        "                                                 save_format='bmp')\n",
        "\n",
        "test_data = data_generator.flow_from_directory(test_directory,\n",
        "                                                target_size=(224, 224),\n",
        "                                                batch_size=32,\n",
        "                                                class_mode='binary',\n",
        "                                                classes=['Benign', 'Malignant'],\n",
        "                                                shuffle=False,\n",
        "                                                save_to_dir=test_path,\n",
        "                                                save_format='bmp')\n",
        "\n",
        "class calls(Callback):\n",
        "    def on_train_begin(self, logs=None):\n",
        "        print(\"Hey Muhammad, the training started\")\n",
        "    def on_epoch_begin(self, epoch, logs=None):\n",
        "        print(f\"Starting epoch number {epoch}\")\n",
        "    def on_epoch_end(self, epoch, logs=None):\n",
        "        print(f\"Epoch number {epoch} ended\")              \n",
        "    def on_train_end(self, logs=None):\n",
        "        print(\"Muhammad, Training ended for good\")\n",
        "\n",
        "calling =[calls()]\n",
        "\n",
        "# Build the model on top of the pre-trained VGG19 model\n",
        "model = tf.keras.models.Sequential([\n",
        "        vgg_model,\n",
        "        tf.keras.layers.Conv2D(256, (3, 3), padding='same', activation='relu'),\n",
        "        tf.keras.layers.MaxPooling2D((2, 2), padding='same'),\n",
        "        tf.keras.layers.Conv2D(128, (3, 3), padding='same', activation='relu'),\n",
        "        tf.keras.layers.MaxPooling2D((2, 2), padding='same'),\n",
        "        tf.keras.layers.Conv2D(64, (3, 3), padding='same', activation='relu'),\n",
        "        tf.keras.layers.MaxPooling2D((2, 2), padding='same'),\n",
        "        tf.keras.layers.Flatten(),\n",
        "        tf.keras.layers.Dense(64, activation='relu'),\n",
        "        tf.keras.layers.Dropout(0.5),\n",
        "        tf.keras.layers.Dense(1, activation='sigmoid')\n",
        "])\n",
        "\n",
        "model.compile(loss='binary_crossentropy',\n",
        "              optimizer='adam',\n",
        "              metrics=['accuracy'])"
      ],
      "metadata": {
        "colab": {
          "base_uri": "https://localhost:8080/"
        },
        "id": "p4bsTj3z_6ST",
        "outputId": "9cbb99c7-4eed-4c6e-f76b-fe34f5159005"
      },
      "execution_count": null,
      "outputs": [
        {
          "output_type": "stream",
          "name": "stdout",
          "text": [
            "Found 311 images belonging to 2 classes.\n",
            "Found 0 images belonging to 2 classes.\n"
          ]
        }
      ]
    },
    {
      "cell_type": "code",
      "source": [
        "history = model.fit(train_data,\n",
        "                    callbacks = calling,\n",
        "                    epochs=50,\n",
        "                    verbose=1)"
      ],
      "metadata": {
        "colab": {
          "base_uri": "https://localhost:8080/"
        },
        "id": "YTxWcX4kEA6r",
        "outputId": "a7501ce1-f83b-426e-8fe2-fdf8e27e705b"
      },
      "execution_count": null,
      "outputs": [
        {
          "output_type": "stream",
          "name": "stdout",
          "text": [
            "Hey Muhammad, the training started\n",
            "Starting epoch number 0\n",
            "Epoch 1/50\n",
            "10/10 [==============================] - ETA: 0s - loss: 0.7414 - accuracy: 0.5177 Epoch number 0 ended\n",
            "10/10 [==============================] - 246s 24s/step - loss: 0.7414 - accuracy: 0.5177\n",
            "Starting epoch number 1\n",
            "Epoch 2/50\n",
            "10/10 [==============================] - ETA: 0s - loss: 0.6732 - accuracy: 0.5852 Epoch number 1 ended\n",
            "10/10 [==============================] - 229s 23s/step - loss: 0.6732 - accuracy: 0.5852\n",
            "Starting epoch number 2\n",
            "Epoch 3/50\n",
            "10/10 [==============================] - ETA: 0s - loss: 0.5495 - accuracy: 0.7363 Epoch number 2 ended\n",
            "10/10 [==============================] - 239s 24s/step - loss: 0.5495 - accuracy: 0.7363\n",
            "Starting epoch number 3\n",
            "Epoch 4/50\n",
            "10/10 [==============================] - ETA: 0s - loss: 0.4254 - accuracy: 0.7781 Epoch number 3 ended\n",
            "10/10 [==============================] - 229s 23s/step - loss: 0.4254 - accuracy: 0.7781\n",
            "Starting epoch number 4\n",
            "Epoch 5/50\n",
            "10/10 [==============================] - ETA: 0s - loss: 0.4477 - accuracy: 0.8006 Epoch number 4 ended\n",
            "10/10 [==============================] - 229s 23s/step - loss: 0.4477 - accuracy: 0.8006\n",
            "Starting epoch number 5\n",
            "Epoch 6/50\n"
          ]
        }
      ]
    },
    {
      "cell_type": "code",
      "source": [
        "# Evaluate the model on the test set\n",
        "test_loss, test_acc = model.evaluate(test_data)"
      ],
      "metadata": {
        "colab": {
          "base_uri": "https://localhost:8080/"
        },
        "id": "xjZLhNtREJIy",
        "outputId": "a7ce0097-fc92-4aba-b3ab-7865c0c27032"
      },
      "execution_count": null,
      "outputs": [
        {
          "output_type": "stream",
          "name": "stdout",
          "text": [
            "1/1 [==============================] - 27s 27s/step - loss: 9.6544e-05 - accuracy: 1.0000\n"
          ]
        }
      ]
    }
  ],
  "metadata": {
    "colab": {
      "provenance": [],
      "include_colab_link": true
    },
    "kernelspec": {
      "display_name": "Python 3",
      "name": "python3"
    }
  },
  "nbformat": 4,
  "nbformat_minor": 0
}